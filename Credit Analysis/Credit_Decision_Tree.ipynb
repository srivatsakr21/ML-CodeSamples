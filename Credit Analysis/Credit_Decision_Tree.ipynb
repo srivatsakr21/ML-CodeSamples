{
  "nbformat": 4,
  "nbformat_minor": 0,
  "metadata": {
    "kernelspec": {
      "display_name": "Python 3",
      "language": "python",
      "name": "python3"
    },
    "language_info": {
      "codemirror_mode": {
        "name": "ipython",
        "version": 3
      },
      "file_extension": ".py",
      "mimetype": "text/x-python",
      "name": "python",
      "nbconvert_exporter": "python",
      "pygments_lexer": "ipython3",
      "version": "3.7.3"
    },
    "colab": {
      "name": "Credit Decision Tree.ipynb",
      "provenance": [],
      "collapsed_sections": []
    }
  },
  "cells": [
    {
      "cell_type": "code",
      "metadata": {
        "id": "9bBzMpDNIK_5",
        "colab_type": "code",
        "colab": {}
      },
      "source": [
        "%matplotlib inline"
      ],
      "execution_count": 1,
      "outputs": []
    },
    {
      "cell_type": "code",
      "metadata": {
        "id": "8LvtOIJKILAC",
        "colab_type": "code",
        "colab": {}
      },
      "source": [
        "import numpy as np"
      ],
      "execution_count": 2,
      "outputs": []
    },
    {
      "cell_type": "code",
      "metadata": {
        "id": "_9hMAmydILAH",
        "colab_type": "code",
        "colab": {}
      },
      "source": [
        "import pandas as pd"
      ],
      "execution_count": 3,
      "outputs": []
    },
    {
      "cell_type": "code",
      "metadata": {
        "id": "FyxXDCriILAM",
        "colab_type": "code",
        "colab": {}
      },
      "source": [
        "from sklearn.tree import DecisionTreeClassifier"
      ],
      "execution_count": 4,
      "outputs": []
    },
    {
      "cell_type": "code",
      "metadata": {
        "id": "Dc1Nm0_8ILAQ",
        "colab_type": "code",
        "colab": {}
      },
      "source": [
        "from sklearn.feature_extraction.text import CountVectorizer"
      ],
      "execution_count": 5,
      "outputs": []
    },
    {
      "cell_type": "code",
      "metadata": {
        "id": "FJXlkJZ3ILAV",
        "colab_type": "code",
        "colab": {}
      },
      "source": [
        "credit_df = pd.read_csv(\"credit.csv\")"
      ],
      "execution_count": 6,
      "outputs": []
    },
    {
      "cell_type": "code",
      "metadata": {
        "id": "iac-s7A1ILAZ",
        "colab_type": "code",
        "colab": {
          "base_uri": "https://localhost:8080/",
          "height": 266
        },
        "outputId": "ae11356c-fb50-458e-9f17-8a4f09623a43"
      },
      "source": [
        "credit_df.describe().transpose()"
      ],
      "execution_count": 7,
      "outputs": [
        {
          "output_type": "execute_result",
          "data": {
            "text/html": [
              "<div>\n",
              "<style scoped>\n",
              "    .dataframe tbody tr th:only-of-type {\n",
              "        vertical-align: middle;\n",
              "    }\n",
              "\n",
              "    .dataframe tbody tr th {\n",
              "        vertical-align: top;\n",
              "    }\n",
              "\n",
              "    .dataframe thead th {\n",
              "        text-align: right;\n",
              "    }\n",
              "</style>\n",
              "<table border=\"1\" class=\"dataframe\">\n",
              "  <thead>\n",
              "    <tr style=\"text-align: right;\">\n",
              "      <th></th>\n",
              "      <th>count</th>\n",
              "      <th>mean</th>\n",
              "      <th>std</th>\n",
              "      <th>min</th>\n",
              "      <th>25%</th>\n",
              "      <th>50%</th>\n",
              "      <th>75%</th>\n",
              "      <th>max</th>\n",
              "    </tr>\n",
              "  </thead>\n",
              "  <tbody>\n",
              "    <tr>\n",
              "      <th>months_loan_duration</th>\n",
              "      <td>1000.0</td>\n",
              "      <td>20.903</td>\n",
              "      <td>12.058814</td>\n",
              "      <td>4.0</td>\n",
              "      <td>12.0</td>\n",
              "      <td>18.0</td>\n",
              "      <td>24.00</td>\n",
              "      <td>72.0</td>\n",
              "    </tr>\n",
              "    <tr>\n",
              "      <th>amount</th>\n",
              "      <td>1000.0</td>\n",
              "      <td>3271.258</td>\n",
              "      <td>2822.736876</td>\n",
              "      <td>250.0</td>\n",
              "      <td>1365.5</td>\n",
              "      <td>2319.5</td>\n",
              "      <td>3972.25</td>\n",
              "      <td>18424.0</td>\n",
              "    </tr>\n",
              "    <tr>\n",
              "      <th>percent_of_income</th>\n",
              "      <td>1000.0</td>\n",
              "      <td>2.973</td>\n",
              "      <td>1.118715</td>\n",
              "      <td>1.0</td>\n",
              "      <td>2.0</td>\n",
              "      <td>3.0</td>\n",
              "      <td>4.00</td>\n",
              "      <td>4.0</td>\n",
              "    </tr>\n",
              "    <tr>\n",
              "      <th>years_at_residence</th>\n",
              "      <td>1000.0</td>\n",
              "      <td>2.845</td>\n",
              "      <td>1.103718</td>\n",
              "      <td>1.0</td>\n",
              "      <td>2.0</td>\n",
              "      <td>3.0</td>\n",
              "      <td>4.00</td>\n",
              "      <td>4.0</td>\n",
              "    </tr>\n",
              "    <tr>\n",
              "      <th>age</th>\n",
              "      <td>1000.0</td>\n",
              "      <td>35.546</td>\n",
              "      <td>11.375469</td>\n",
              "      <td>19.0</td>\n",
              "      <td>27.0</td>\n",
              "      <td>33.0</td>\n",
              "      <td>42.00</td>\n",
              "      <td>75.0</td>\n",
              "    </tr>\n",
              "    <tr>\n",
              "      <th>existing_loans_count</th>\n",
              "      <td>1000.0</td>\n",
              "      <td>1.407</td>\n",
              "      <td>0.577654</td>\n",
              "      <td>1.0</td>\n",
              "      <td>1.0</td>\n",
              "      <td>1.0</td>\n",
              "      <td>2.00</td>\n",
              "      <td>4.0</td>\n",
              "    </tr>\n",
              "    <tr>\n",
              "      <th>dependents</th>\n",
              "      <td>1000.0</td>\n",
              "      <td>1.155</td>\n",
              "      <td>0.362086</td>\n",
              "      <td>1.0</td>\n",
              "      <td>1.0</td>\n",
              "      <td>1.0</td>\n",
              "      <td>1.00</td>\n",
              "      <td>2.0</td>\n",
              "    </tr>\n",
              "  </tbody>\n",
              "</table>\n",
              "</div>"
            ],
            "text/plain": [
              "                       count      mean          std  ...     50%      75%      max\n",
              "months_loan_duration  1000.0    20.903    12.058814  ...    18.0    24.00     72.0\n",
              "amount                1000.0  3271.258  2822.736876  ...  2319.5  3972.25  18424.0\n",
              "percent_of_income     1000.0     2.973     1.118715  ...     3.0     4.00      4.0\n",
              "years_at_residence    1000.0     2.845     1.103718  ...     3.0     4.00      4.0\n",
              "age                   1000.0    35.546    11.375469  ...    33.0    42.00     75.0\n",
              "existing_loans_count  1000.0     1.407     0.577654  ...     1.0     2.00      4.0\n",
              "dependents            1000.0     1.155     0.362086  ...     1.0     1.00      2.0\n",
              "\n",
              "[7 rows x 8 columns]"
            ]
          },
          "metadata": {
            "tags": []
          },
          "execution_count": 7
        }
      ]
    },
    {
      "cell_type": "code",
      "metadata": {
        "id": "Wye-GyxkILAh",
        "colab_type": "code",
        "colab": {
          "base_uri": "https://localhost:8080/",
          "height": 379
        },
        "outputId": "8aa17972-f64c-4a0a-9671-87edf133f251"
      },
      "source": [
        "credit_df.head(10)  #let us look at the raw data. As is evident, there are lot of missing values "
      ],
      "execution_count": 8,
      "outputs": [
        {
          "output_type": "execute_result",
          "data": {
            "text/html": [
              "<div>\n",
              "<style scoped>\n",
              "    .dataframe tbody tr th:only-of-type {\n",
              "        vertical-align: middle;\n",
              "    }\n",
              "\n",
              "    .dataframe tbody tr th {\n",
              "        vertical-align: top;\n",
              "    }\n",
              "\n",
              "    .dataframe thead th {\n",
              "        text-align: right;\n",
              "    }\n",
              "</style>\n",
              "<table border=\"1\" class=\"dataframe\">\n",
              "  <thead>\n",
              "    <tr style=\"text-align: right;\">\n",
              "      <th></th>\n",
              "      <th>checking_balance</th>\n",
              "      <th>months_loan_duration</th>\n",
              "      <th>credit_history</th>\n",
              "      <th>purpose</th>\n",
              "      <th>amount</th>\n",
              "      <th>savings_balance</th>\n",
              "      <th>employment_duration</th>\n",
              "      <th>percent_of_income</th>\n",
              "      <th>years_at_residence</th>\n",
              "      <th>age</th>\n",
              "      <th>other_credit</th>\n",
              "      <th>housing</th>\n",
              "      <th>existing_loans_count</th>\n",
              "      <th>job</th>\n",
              "      <th>dependents</th>\n",
              "      <th>phone</th>\n",
              "      <th>default</th>\n",
              "    </tr>\n",
              "  </thead>\n",
              "  <tbody>\n",
              "    <tr>\n",
              "      <th>0</th>\n",
              "      <td>&lt; 0 DM</td>\n",
              "      <td>6</td>\n",
              "      <td>critical</td>\n",
              "      <td>furniture/appliances</td>\n",
              "      <td>1169</td>\n",
              "      <td>unknown</td>\n",
              "      <td>&gt; 7 years</td>\n",
              "      <td>4</td>\n",
              "      <td>4</td>\n",
              "      <td>67</td>\n",
              "      <td>none</td>\n",
              "      <td>own</td>\n",
              "      <td>2</td>\n",
              "      <td>skilled</td>\n",
              "      <td>1</td>\n",
              "      <td>yes</td>\n",
              "      <td>no</td>\n",
              "    </tr>\n",
              "    <tr>\n",
              "      <th>1</th>\n",
              "      <td>1 - 200 DM</td>\n",
              "      <td>48</td>\n",
              "      <td>good</td>\n",
              "      <td>furniture/appliances</td>\n",
              "      <td>5951</td>\n",
              "      <td>&lt; 100 DM</td>\n",
              "      <td>1 - 4 years</td>\n",
              "      <td>2</td>\n",
              "      <td>2</td>\n",
              "      <td>22</td>\n",
              "      <td>none</td>\n",
              "      <td>own</td>\n",
              "      <td>1</td>\n",
              "      <td>skilled</td>\n",
              "      <td>1</td>\n",
              "      <td>no</td>\n",
              "      <td>yes</td>\n",
              "    </tr>\n",
              "    <tr>\n",
              "      <th>2</th>\n",
              "      <td>unknown</td>\n",
              "      <td>12</td>\n",
              "      <td>critical</td>\n",
              "      <td>education</td>\n",
              "      <td>2096</td>\n",
              "      <td>&lt; 100 DM</td>\n",
              "      <td>4 - 7 years</td>\n",
              "      <td>2</td>\n",
              "      <td>3</td>\n",
              "      <td>49</td>\n",
              "      <td>none</td>\n",
              "      <td>own</td>\n",
              "      <td>1</td>\n",
              "      <td>unskilled</td>\n",
              "      <td>2</td>\n",
              "      <td>no</td>\n",
              "      <td>no</td>\n",
              "    </tr>\n",
              "    <tr>\n",
              "      <th>3</th>\n",
              "      <td>&lt; 0 DM</td>\n",
              "      <td>42</td>\n",
              "      <td>good</td>\n",
              "      <td>furniture/appliances</td>\n",
              "      <td>7882</td>\n",
              "      <td>&lt; 100 DM</td>\n",
              "      <td>4 - 7 years</td>\n",
              "      <td>2</td>\n",
              "      <td>4</td>\n",
              "      <td>45</td>\n",
              "      <td>none</td>\n",
              "      <td>other</td>\n",
              "      <td>1</td>\n",
              "      <td>skilled</td>\n",
              "      <td>2</td>\n",
              "      <td>no</td>\n",
              "      <td>no</td>\n",
              "    </tr>\n",
              "    <tr>\n",
              "      <th>4</th>\n",
              "      <td>&lt; 0 DM</td>\n",
              "      <td>24</td>\n",
              "      <td>poor</td>\n",
              "      <td>car</td>\n",
              "      <td>4870</td>\n",
              "      <td>&lt; 100 DM</td>\n",
              "      <td>1 - 4 years</td>\n",
              "      <td>3</td>\n",
              "      <td>4</td>\n",
              "      <td>53</td>\n",
              "      <td>none</td>\n",
              "      <td>other</td>\n",
              "      <td>2</td>\n",
              "      <td>skilled</td>\n",
              "      <td>2</td>\n",
              "      <td>no</td>\n",
              "      <td>yes</td>\n",
              "    </tr>\n",
              "    <tr>\n",
              "      <th>5</th>\n",
              "      <td>unknown</td>\n",
              "      <td>36</td>\n",
              "      <td>good</td>\n",
              "      <td>education</td>\n",
              "      <td>9055</td>\n",
              "      <td>unknown</td>\n",
              "      <td>1 - 4 years</td>\n",
              "      <td>2</td>\n",
              "      <td>4</td>\n",
              "      <td>35</td>\n",
              "      <td>none</td>\n",
              "      <td>other</td>\n",
              "      <td>1</td>\n",
              "      <td>unskilled</td>\n",
              "      <td>2</td>\n",
              "      <td>yes</td>\n",
              "      <td>no</td>\n",
              "    </tr>\n",
              "    <tr>\n",
              "      <th>6</th>\n",
              "      <td>unknown</td>\n",
              "      <td>24</td>\n",
              "      <td>good</td>\n",
              "      <td>furniture/appliances</td>\n",
              "      <td>2835</td>\n",
              "      <td>500 - 1000 DM</td>\n",
              "      <td>&gt; 7 years</td>\n",
              "      <td>3</td>\n",
              "      <td>4</td>\n",
              "      <td>53</td>\n",
              "      <td>none</td>\n",
              "      <td>own</td>\n",
              "      <td>1</td>\n",
              "      <td>skilled</td>\n",
              "      <td>1</td>\n",
              "      <td>no</td>\n",
              "      <td>no</td>\n",
              "    </tr>\n",
              "    <tr>\n",
              "      <th>7</th>\n",
              "      <td>1 - 200 DM</td>\n",
              "      <td>36</td>\n",
              "      <td>good</td>\n",
              "      <td>car</td>\n",
              "      <td>6948</td>\n",
              "      <td>&lt; 100 DM</td>\n",
              "      <td>1 - 4 years</td>\n",
              "      <td>2</td>\n",
              "      <td>2</td>\n",
              "      <td>35</td>\n",
              "      <td>none</td>\n",
              "      <td>rent</td>\n",
              "      <td>1</td>\n",
              "      <td>management</td>\n",
              "      <td>1</td>\n",
              "      <td>yes</td>\n",
              "      <td>no</td>\n",
              "    </tr>\n",
              "    <tr>\n",
              "      <th>8</th>\n",
              "      <td>unknown</td>\n",
              "      <td>12</td>\n",
              "      <td>good</td>\n",
              "      <td>furniture/appliances</td>\n",
              "      <td>3059</td>\n",
              "      <td>&gt; 1000 DM</td>\n",
              "      <td>4 - 7 years</td>\n",
              "      <td>2</td>\n",
              "      <td>4</td>\n",
              "      <td>61</td>\n",
              "      <td>none</td>\n",
              "      <td>own</td>\n",
              "      <td>1</td>\n",
              "      <td>unskilled</td>\n",
              "      <td>1</td>\n",
              "      <td>no</td>\n",
              "      <td>no</td>\n",
              "    </tr>\n",
              "    <tr>\n",
              "      <th>9</th>\n",
              "      <td>1 - 200 DM</td>\n",
              "      <td>30</td>\n",
              "      <td>critical</td>\n",
              "      <td>car</td>\n",
              "      <td>5234</td>\n",
              "      <td>&lt; 100 DM</td>\n",
              "      <td>unemployed</td>\n",
              "      <td>4</td>\n",
              "      <td>2</td>\n",
              "      <td>28</td>\n",
              "      <td>none</td>\n",
              "      <td>own</td>\n",
              "      <td>2</td>\n",
              "      <td>management</td>\n",
              "      <td>1</td>\n",
              "      <td>no</td>\n",
              "      <td>yes</td>\n",
              "    </tr>\n",
              "  </tbody>\n",
              "</table>\n",
              "</div>"
            ],
            "text/plain": [
              "  checking_balance  months_loan_duration  ... phone default\n",
              "0           < 0 DM                     6  ...   yes      no\n",
              "1       1 - 200 DM                    48  ...    no     yes\n",
              "2          unknown                    12  ...    no      no\n",
              "3           < 0 DM                    42  ...    no      no\n",
              "4           < 0 DM                    24  ...    no     yes\n",
              "5          unknown                    36  ...   yes      no\n",
              "6          unknown                    24  ...    no      no\n",
              "7       1 - 200 DM                    36  ...   yes      no\n",
              "8          unknown                    12  ...    no      no\n",
              "9       1 - 200 DM                    30  ...    no     yes\n",
              "\n",
              "[10 rows x 17 columns]"
            ]
          },
          "metadata": {
            "tags": []
          },
          "execution_count": 8
        }
      ]
    },
    {
      "cell_type": "code",
      "metadata": {
        "id": "j9G_upu6ILAl",
        "colab_type": "code",
        "colab": {
          "base_uri": "https://localhost:8080/",
          "height": 34
        },
        "outputId": "52fb0bb7-60d7-4ec3-b111-aa2976c038dd"
      },
      "source": [
        "credit_df.shape"
      ],
      "execution_count": 9,
      "outputs": [
        {
          "output_type": "execute_result",
          "data": {
            "text/plain": [
              "(1000, 17)"
            ]
          },
          "metadata": {
            "tags": []
          },
          "execution_count": 9
        }
      ]
    },
    {
      "cell_type": "code",
      "metadata": {
        "id": "zFj18Cx1ILAp",
        "colab_type": "code",
        "colab": {
          "base_uri": "https://localhost:8080/",
          "height": 317
        },
        "outputId": "145ae4f4-690e-429d-8939-ba633d625530"
      },
      "source": [
        "credit_df.describe()"
      ],
      "execution_count": 10,
      "outputs": [
        {
          "output_type": "execute_result",
          "data": {
            "text/html": [
              "<div>\n",
              "<style scoped>\n",
              "    .dataframe tbody tr th:only-of-type {\n",
              "        vertical-align: middle;\n",
              "    }\n",
              "\n",
              "    .dataframe tbody tr th {\n",
              "        vertical-align: top;\n",
              "    }\n",
              "\n",
              "    .dataframe thead th {\n",
              "        text-align: right;\n",
              "    }\n",
              "</style>\n",
              "<table border=\"1\" class=\"dataframe\">\n",
              "  <thead>\n",
              "    <tr style=\"text-align: right;\">\n",
              "      <th></th>\n",
              "      <th>months_loan_duration</th>\n",
              "      <th>amount</th>\n",
              "      <th>percent_of_income</th>\n",
              "      <th>years_at_residence</th>\n",
              "      <th>age</th>\n",
              "      <th>existing_loans_count</th>\n",
              "      <th>dependents</th>\n",
              "    </tr>\n",
              "  </thead>\n",
              "  <tbody>\n",
              "    <tr>\n",
              "      <th>count</th>\n",
              "      <td>1000.000000</td>\n",
              "      <td>1000.000000</td>\n",
              "      <td>1000.000000</td>\n",
              "      <td>1000.000000</td>\n",
              "      <td>1000.000000</td>\n",
              "      <td>1000.000000</td>\n",
              "      <td>1000.000000</td>\n",
              "    </tr>\n",
              "    <tr>\n",
              "      <th>mean</th>\n",
              "      <td>20.903000</td>\n",
              "      <td>3271.258000</td>\n",
              "      <td>2.973000</td>\n",
              "      <td>2.845000</td>\n",
              "      <td>35.546000</td>\n",
              "      <td>1.407000</td>\n",
              "      <td>1.155000</td>\n",
              "    </tr>\n",
              "    <tr>\n",
              "      <th>std</th>\n",
              "      <td>12.058814</td>\n",
              "      <td>2822.736876</td>\n",
              "      <td>1.118715</td>\n",
              "      <td>1.103718</td>\n",
              "      <td>11.375469</td>\n",
              "      <td>0.577654</td>\n",
              "      <td>0.362086</td>\n",
              "    </tr>\n",
              "    <tr>\n",
              "      <th>min</th>\n",
              "      <td>4.000000</td>\n",
              "      <td>250.000000</td>\n",
              "      <td>1.000000</td>\n",
              "      <td>1.000000</td>\n",
              "      <td>19.000000</td>\n",
              "      <td>1.000000</td>\n",
              "      <td>1.000000</td>\n",
              "    </tr>\n",
              "    <tr>\n",
              "      <th>25%</th>\n",
              "      <td>12.000000</td>\n",
              "      <td>1365.500000</td>\n",
              "      <td>2.000000</td>\n",
              "      <td>2.000000</td>\n",
              "      <td>27.000000</td>\n",
              "      <td>1.000000</td>\n",
              "      <td>1.000000</td>\n",
              "    </tr>\n",
              "    <tr>\n",
              "      <th>50%</th>\n",
              "      <td>18.000000</td>\n",
              "      <td>2319.500000</td>\n",
              "      <td>3.000000</td>\n",
              "      <td>3.000000</td>\n",
              "      <td>33.000000</td>\n",
              "      <td>1.000000</td>\n",
              "      <td>1.000000</td>\n",
              "    </tr>\n",
              "    <tr>\n",
              "      <th>75%</th>\n",
              "      <td>24.000000</td>\n",
              "      <td>3972.250000</td>\n",
              "      <td>4.000000</td>\n",
              "      <td>4.000000</td>\n",
              "      <td>42.000000</td>\n",
              "      <td>2.000000</td>\n",
              "      <td>1.000000</td>\n",
              "    </tr>\n",
              "    <tr>\n",
              "      <th>max</th>\n",
              "      <td>72.000000</td>\n",
              "      <td>18424.000000</td>\n",
              "      <td>4.000000</td>\n",
              "      <td>4.000000</td>\n",
              "      <td>75.000000</td>\n",
              "      <td>4.000000</td>\n",
              "      <td>2.000000</td>\n",
              "    </tr>\n",
              "  </tbody>\n",
              "</table>\n",
              "</div>"
            ],
            "text/plain": [
              "       months_loan_duration        amount  ...  existing_loans_count   dependents\n",
              "count           1000.000000   1000.000000  ...           1000.000000  1000.000000\n",
              "mean              20.903000   3271.258000  ...              1.407000     1.155000\n",
              "std               12.058814   2822.736876  ...              0.577654     0.362086\n",
              "min                4.000000    250.000000  ...              1.000000     1.000000\n",
              "25%               12.000000   1365.500000  ...              1.000000     1.000000\n",
              "50%               18.000000   2319.500000  ...              1.000000     1.000000\n",
              "75%               24.000000   3972.250000  ...              2.000000     1.000000\n",
              "max               72.000000  18424.000000  ...              4.000000     2.000000\n",
              "\n",
              "[8 rows x 7 columns]"
            ]
          },
          "metadata": {
            "tags": []
          },
          "execution_count": 10
        }
      ]
    },
    {
      "cell_type": "code",
      "metadata": {
        "id": "pFIJhY0tILAu",
        "colab_type": "code",
        "colab": {
          "base_uri": "https://localhost:8080/",
          "height": 425
        },
        "outputId": "de483781-5c73-4042-a9d1-03fe0320d2b0"
      },
      "source": [
        "credit_df.info()  # many columns are of type object i.e. strings. These need to be converted to ordinal type"
      ],
      "execution_count": 11,
      "outputs": [
        {
          "output_type": "stream",
          "text": [
            "<class 'pandas.core.frame.DataFrame'>\n",
            "RangeIndex: 1000 entries, 0 to 999\n",
            "Data columns (total 17 columns):\n",
            " #   Column                Non-Null Count  Dtype \n",
            "---  ------                --------------  ----- \n",
            " 0   checking_balance      1000 non-null   object\n",
            " 1   months_loan_duration  1000 non-null   int64 \n",
            " 2   credit_history        1000 non-null   object\n",
            " 3   purpose               1000 non-null   object\n",
            " 4   amount                1000 non-null   int64 \n",
            " 5   savings_balance       1000 non-null   object\n",
            " 6   employment_duration   1000 non-null   object\n",
            " 7   percent_of_income     1000 non-null   int64 \n",
            " 8   years_at_residence    1000 non-null   int64 \n",
            " 9   age                   1000 non-null   int64 \n",
            " 10  other_credit          1000 non-null   object\n",
            " 11  housing               1000 non-null   object\n",
            " 12  existing_loans_count  1000 non-null   int64 \n",
            " 13  job                   1000 non-null   object\n",
            " 14  dependents            1000 non-null   int64 \n",
            " 15  phone                 1000 non-null   object\n",
            " 16  default               1000 non-null   object\n",
            "dtypes: int64(7), object(10)\n",
            "memory usage: 132.9+ KB\n"
          ],
          "name": "stdout"
        }
      ]
    },
    {
      "cell_type": "code",
      "metadata": {
        "id": "GwF9CvklILAy",
        "colab_type": "code",
        "colab": {}
      },
      "source": [
        "# Decision tree in Python can take only numerical / categorical colums. It cannot take string / obeject types. \n",
        "# The following code loops through each column and checks if the column type is object then converts those columns\n",
        "# into categorical with each distinct value becoming a category or code.\n",
        "\n",
        "for feature in credit_df.columns: # Loop through all columns in the dataframe\n",
        "    if credit_df[feature].dtype == 'object': # Only apply for columns with categorical strings\n",
        "        credit_df[feature] = pd.Categorical(credit_df[feature]).codes # Replace strings with an integer"
      ],
      "execution_count": 12,
      "outputs": []
    },
    {
      "cell_type": "code",
      "metadata": {
        "id": "0dzBJA3NILA2",
        "colab_type": "code",
        "colab": {
          "base_uri": "https://localhost:8080/",
          "height": 425
        },
        "outputId": "2c6d8c25-f4cd-4bf4-a39b-8867e01abfb0"
      },
      "source": [
        "credit_df.info()"
      ],
      "execution_count": 13,
      "outputs": [
        {
          "output_type": "stream",
          "text": [
            "<class 'pandas.core.frame.DataFrame'>\n",
            "RangeIndex: 1000 entries, 0 to 999\n",
            "Data columns (total 17 columns):\n",
            " #   Column                Non-Null Count  Dtype\n",
            "---  ------                --------------  -----\n",
            " 0   checking_balance      1000 non-null   int8 \n",
            " 1   months_loan_duration  1000 non-null   int64\n",
            " 2   credit_history        1000 non-null   int8 \n",
            " 3   purpose               1000 non-null   int8 \n",
            " 4   amount                1000 non-null   int64\n",
            " 5   savings_balance       1000 non-null   int8 \n",
            " 6   employment_duration   1000 non-null   int8 \n",
            " 7   percent_of_income     1000 non-null   int64\n",
            " 8   years_at_residence    1000 non-null   int64\n",
            " 9   age                   1000 non-null   int64\n",
            " 10  other_credit          1000 non-null   int8 \n",
            " 11  housing               1000 non-null   int8 \n",
            " 12  existing_loans_count  1000 non-null   int64\n",
            " 13  job                   1000 non-null   int8 \n",
            " 14  dependents            1000 non-null   int64\n",
            " 15  phone                 1000 non-null   int8 \n",
            " 16  default               1000 non-null   int8 \n",
            "dtypes: int64(7), int8(10)\n",
            "memory usage: 64.6 KB\n"
          ],
          "name": "stdout"
        }
      ]
    },
    {
      "cell_type": "code",
      "metadata": {
        "id": "-KUs0OsWILA6",
        "colab_type": "code",
        "colab": {}
      },
      "source": [
        "col_labels = [ 'checking_balance', 'months_loan_duration' ,'credit_history' , 'purpose, amount', 'savings_balance' , 'employment_duration'\n",
        ", 'percent_of_income', 'years_at_residence', 'age', 'other_credit', 'housing', 'existing_loans_count', 'job', 'dependents', 'phone', 'default']"
      ],
      "execution_count": 14,
      "outputs": []
    },
    {
      "cell_type": "code",
      "metadata": {
        "id": "EhQO-gEAILBB",
        "colab_type": "code",
        "colab": {}
      },
      "source": [
        "train_char_label = ['No', 'Yes']"
      ],
      "execution_count": 15,
      "outputs": []
    },
    {
      "cell_type": "code",
      "metadata": {
        "id": "ufxyXu9OILBF",
        "colab_type": "code",
        "colab": {}
      },
      "source": [
        "# splitting data into training and test set for independent attributes\n",
        "\n",
        "train_set = credit_df.head(700) # Up to the last initial training set row\n",
        "test_set = credit_df.tail(300) # Past the last initial training set row\n",
        "\n",
        "# capture the target column (\"default\") into separate vectors for training set and test set\n",
        "train_labels = train_set.pop(\"default\")\n",
        "test_labels = test_set.pop(\"default\")\n"
      ],
      "execution_count": 16,
      "outputs": []
    },
    {
      "cell_type": "code",
      "metadata": {
        "id": "KlviLwiiILBJ",
        "colab_type": "code",
        "colab": {}
      },
      "source": [
        "# invoking the decision tree classifier function. Using 'entropy' method of finding the split columns. Other option \n",
        "# could be gini index.  Restricting the depth of the tree to 5 (no particular reason for selecting this)\n",
        "\n",
        "#dt_model = DecisionTreeClassifier(criterion = 'entropy' , max_depth = 5, random_state = 100)\n",
        "                                  \n",
        "dt_model = DecisionTreeClassifier(criterion = 'entropy' )"
      ],
      "execution_count": 17,
      "outputs": []
    },
    {
      "cell_type": "code",
      "metadata": {
        "id": "yJSIN8JIILBN",
        "colab_type": "code",
        "colab": {
          "base_uri": "https://localhost:8080/",
          "height": 119
        },
        "outputId": "56069b77-99d1-4803-c0e1-3101b1487b80"
      },
      "source": [
        "dt_model.fit(train_set, train_labels)"
      ],
      "execution_count": 18,
      "outputs": [
        {
          "output_type": "execute_result",
          "data": {
            "text/plain": [
              "DecisionTreeClassifier(ccp_alpha=0.0, class_weight=None, criterion='entropy',\n",
              "                       max_depth=None, max_features=None, max_leaf_nodes=None,\n",
              "                       min_impurity_decrease=0.0, min_impurity_split=None,\n",
              "                       min_samples_leaf=1, min_samples_split=2,\n",
              "                       min_weight_fraction_leaf=0.0, presort='deprecated',\n",
              "                       random_state=None, splitter='best')"
            ]
          },
          "metadata": {
            "tags": []
          },
          "execution_count": 18
        }
      ]
    },
    {
      "cell_type": "code",
      "metadata": {
        "id": "unpyhzxrILBT",
        "colab_type": "code",
        "colab": {
          "base_uri": "https://localhost:8080/",
          "height": 34
        },
        "outputId": "c089e694-9aeb-4926-de10-a32c4bc90dad"
      },
      "source": [
        "dt_model.score(test_set , test_labels)"
      ],
      "execution_count": 19,
      "outputs": [
        {
          "output_type": "execute_result",
          "data": {
            "text/plain": [
              "0.6733333333333333"
            ]
          },
          "metadata": {
            "tags": []
          },
          "execution_count": 19
        }
      ]
    },
    {
      "cell_type": "code",
      "metadata": {
        "id": "vQ8rG9XMILBX",
        "colab_type": "code",
        "colab": {}
      },
      "source": [
        "test_pred = dt_model.predict(test_set)"
      ],
      "execution_count": 20,
      "outputs": []
    },
    {
      "cell_type": "code",
      "metadata": {
        "id": "y6U3Aje2ILBb",
        "colab_type": "code",
        "colab": {}
      },
      "source": [
        "y_grid = (np.column_stack([test_pred, test_labels]))"
      ],
      "execution_count": 21,
      "outputs": []
    },
    {
      "cell_type": "code",
      "metadata": {
        "scrolled": true,
        "id": "98_cgOjIILBj",
        "colab_type": "code",
        "colab": {
          "base_uri": "https://localhost:8080/",
          "height": 306
        },
        "outputId": "cce504f2-56fa-414b-dcb0-6c6ce58bdf1f"
      },
      "source": [
        "from IPython.display import Image  \n",
        "#import pydotplus as pydot\n",
        "from sklearn import tree\n",
        "from os import system\n",
        "\n",
        "Credit_Tree_File = open('d:\\credit_tree.dot','w')\n",
        "dot_data = tree.export_graphviz(dt_model, out_file=Credit_Tree_File, feature_names = list(train_set), class_names = list(train_char_label))\n",
        "\n",
        "Credit_Tree_File.close()\n",
        "\n",
        "\n",
        "# importance of features in the tree building ( The importance of a feature is computed as the \n",
        "#(normalized) total reduction of the criterion brought by that feature. It is also known as the Gini importance )\n",
        "\n",
        "print (pd.DataFrame(dt_model.feature_importances_, columns = [\"Imp\"], index = train_set.columns))\n"
      ],
      "execution_count": 22,
      "outputs": [
        {
          "output_type": "stream",
          "text": [
            "                           Imp\n",
            "checking_balance      0.114944\n",
            "months_loan_duration  0.087167\n",
            "credit_history        0.057620\n",
            "purpose               0.052263\n",
            "amount                0.262110\n",
            "savings_balance       0.023413\n",
            "employment_duration   0.066451\n",
            "percent_of_income     0.012204\n",
            "years_at_residence    0.015067\n",
            "age                   0.152380\n",
            "other_credit          0.054649\n",
            "housing               0.021257\n",
            "existing_loans_count  0.012102\n",
            "job                   0.059658\n",
            "dependents            0.000000\n",
            "phone                 0.008717\n"
          ],
          "name": "stdout"
        }
      ]
    },
    {
      "cell_type": "code",
      "metadata": {
        "id": "rVPJy7q-ILBn",
        "colab_type": "code",
        "colab": {
          "base_uri": "https://localhost:8080/",
          "height": 34
        },
        "outputId": "a3f251be-a92e-4cfb-fdfe-b32a7f518cd5"
      },
      "source": [
        "# You can also copy the script in the .dot file and paste it at http://webgraphviz.com/ to get tree view \n",
        "#or create a .png as below\n",
        "\n",
        "system(\"dot -Tpng D:\\credit_tree.dot -o D:/credit_tree.png\")\n",
        "Image(\"d:\\credit_tree.png\")"
      ],
      "execution_count": 23,
      "outputs": [
        {
          "output_type": "execute_result",
          "data": {
            "image/png": "d:\\credit_tree.png",
            "text/plain": [
              "<IPython.core.display.Image object>"
            ]
          },
          "metadata": {
            "tags": []
          },
          "execution_count": 23
        }
      ]
    },
    {
      "cell_type": "markdown",
      "metadata": {
        "collapsed": true,
        "id": "CrjAbVdQILBr",
        "colab_type": "text"
      },
      "source": [
        "Regularising the Decision Tree"
      ]
    },
    {
      "cell_type": "code",
      "metadata": {
        "id": "pwVoUFVFILBs",
        "colab_type": "code",
        "colab": {},
        "outputId": "9f42d53f-e56b-4aa1-d712-9203399cff57"
      },
      "source": [
        "dt_model = DecisionTreeClassifier(criterion = 'entropy', class_weight={0:.5,1:.5}, max_depth = 5, min_samples_leaf=5 )\n",
        "dt_model.fit(train_set, train_labels)"
      ],
      "execution_count": null,
      "outputs": [
        {
          "output_type": "execute_result",
          "data": {
            "text/plain": [
              "DecisionTreeClassifier(class_weight={0: 0.5, 1: 0.5}, criterion='entropy',\n",
              "            max_depth=5, max_features=None, max_leaf_nodes=None,\n",
              "            min_impurity_decrease=0.0, min_impurity_split=None,\n",
              "            min_samples_leaf=5, min_samples_split=2,\n",
              "            min_weight_fraction_leaf=0.0, presort=False, random_state=None,\n",
              "            splitter='best')"
            ]
          },
          "metadata": {
            "tags": []
          },
          "execution_count": 25
        }
      ]
    },
    {
      "cell_type": "code",
      "metadata": {
        "id": "2K9gpV-NILBw",
        "colab_type": "code",
        "colab": {},
        "outputId": "b3c60368-9bbc-48d9-8c15-71106daf6494"
      },
      "source": [
        "credit_tree_regularized = open('d:\\credit_tree_regularized.dot','w')\n",
        "dot_data = tree.export_graphviz(dt_model, out_file= credit_tree_regularized , feature_names = list(train_set), class_names = list(train_char_label))\n",
        "\n",
        "credit_tree_regularized.close()\n",
        "\n",
        "print (pd.DataFrame(dt_model.feature_importances_, columns = [\"Imp\"], index = train_set.columns))\n"
      ],
      "execution_count": null,
      "outputs": [
        {
          "output_type": "stream",
          "text": [
            "                           Imp\n",
            "checking_balance      0.392737\n",
            "months_loan_duration  0.074417\n",
            "credit_history        0.082494\n",
            "purpose               0.053923\n",
            "amount                0.168342\n",
            "savings_balance       0.032372\n",
            "employment_duration   0.049010\n",
            "percent_of_income     0.000000\n",
            "years_at_residence    0.000000\n",
            "age                   0.057378\n",
            "other_credit          0.074151\n",
            "housing               0.000000\n",
            "existing_loans_count  0.015176\n",
            "job                   0.000000\n",
            "dependents            0.000000\n",
            "phone                 0.000000\n"
          ],
          "name": "stdout"
        }
      ]
    },
    {
      "cell_type": "code",
      "metadata": {
        "id": "puN8zVLSILB1",
        "colab_type": "code",
        "colab": {},
        "outputId": "62404d1d-184b-444c-95cd-43b51e242fe7"
      },
      "source": [
        "# You can also copy the script in the .dot file and paste it at http://webgraphviz.com/ to get tree view\n",
        "# or create a .png as below\n",
        "system(\"dot -Tpng D:\\credit_tree_regularized.dot -o D:/credit_tree_regularized.png\")\n",
        "Image(\"d:\\credit_tree_regularized.png\")"
      ],
      "execution_count": null,
      "outputs": [
        {
          "output_type": "execute_result",
          "data": {
            "image/png": "[encoded data removed]",
            "text/plain": [
              "<IPython.core.display.Image object>"
            ]
          },
          "metadata": {
            "tags": []
          },
          "execution_count": 27
        }
      ]
    },
    {
      "cell_type": "code",
      "metadata": {
        "id": "vMgsgiB3ILB5",
        "colab_type": "code",
        "colab": {}
      },
      "source": [
        "test_pred = dt_model.predict(test_set)"
      ],
      "execution_count": 24,
      "outputs": []
    },
    {
      "cell_type": "code",
      "metadata": {
        "id": "u4dpc_guILB8",
        "colab_type": "code",
        "colab": {
          "base_uri": "https://localhost:8080/",
          "height": 34
        },
        "outputId": "91a5eaa3-8d0c-49cb-9cdc-94eba7024dbe"
      },
      "source": [
        "dt_model.score(test_set , test_labels)"
      ],
      "execution_count": 25,
      "outputs": [
        {
          "output_type": "execute_result",
          "data": {
            "text/plain": [
              "0.6733333333333333"
            ]
          },
          "metadata": {
            "tags": []
          },
          "execution_count": 25
        }
      ]
    },
    {
      "cell_type": "markdown",
      "metadata": {
        "id": "JbB7X8GSILCA",
        "colab_type": "text"
      },
      "source": [
        "Ensemble Learning - Bagging"
      ]
    },
    {
      "cell_type": "code",
      "metadata": {
        "id": "I9RmbgOAILCA",
        "colab_type": "code",
        "colab": {}
      },
      "source": [
        "from sklearn.ensemble import BaggingClassifier\n",
        "bgcl = BaggingClassifier(base_estimator=dt_model, n_estimators=50, max_samples=1.0)\n",
        "bgcl = BaggingClassifier(n_estimators=50, max_samples=1.0)\n",
        "bgcl = bgcl.fit(train_set, train_labels)\n"
      ],
      "execution_count": 26,
      "outputs": []
    },
    {
      "cell_type": "code",
      "metadata": {
        "id": "vjmoQ2dtILCG",
        "colab_type": "code",
        "colab": {
          "base_uri": "https://localhost:8080/",
          "height": 34
        },
        "outputId": "cfffdc0e-5ed6-4d0f-d317-81723ab0fc2c"
      },
      "source": [
        "test_pred = bgcl.predict(test_set)\n",
        "bgcl.score(test_set , test_labels)"
      ],
      "execution_count": 27,
      "outputs": [
        {
          "output_type": "execute_result",
          "data": {
            "text/plain": [
              "0.7333333333333333"
            ]
          },
          "metadata": {
            "tags": []
          },
          "execution_count": 27
        }
      ]
    },
    {
      "cell_type": "markdown",
      "metadata": {
        "collapsed": true,
        "id": "TFAqRyJIILCK",
        "colab_type": "text"
      },
      "source": [
        "Ensemble Learning - AdaBoosting"
      ]
    },
    {
      "cell_type": "code",
      "metadata": {
        "id": "6HLLauXgILCL",
        "colab_type": "code",
        "colab": {}
      },
      "source": [
        "from sklearn.ensemble import AdaBoostClassifier\n",
        "abcl = AdaBoostClassifier(base_estimator=dt_model, n_estimators=50)\n",
        "#abcl = AdaBoostClassifier(n_estimators=50)\n",
        "abcl = abcl.fit(train_set, train_labels)\n"
      ],
      "execution_count": 28,
      "outputs": []
    },
    {
      "cell_type": "code",
      "metadata": {
        "id": "94zM4QNiILCO",
        "colab_type": "code",
        "colab": {
          "base_uri": "https://localhost:8080/",
          "height": 34
        },
        "outputId": "4071d0ac-0054-4284-8b42-51649d00dc67"
      },
      "source": [
        "test_pred = abcl.predict(test_set)\n",
        "abcl.score(test_set , test_labels)"
      ],
      "execution_count": 29,
      "outputs": [
        {
          "output_type": "execute_result",
          "data": {
            "text/plain": [
              "0.6433333333333333"
            ]
          },
          "metadata": {
            "tags": []
          },
          "execution_count": 29
        }
      ]
    },
    {
      "cell_type": "markdown",
      "metadata": {
        "id": "aWEH6LsQILCS",
        "colab_type": "text"
      },
      "source": [
        "Ensemble Learning - GradientBoost"
      ]
    },
    {
      "cell_type": "code",
      "metadata": {
        "id": "K6m_vRX0ILCT",
        "colab_type": "code",
        "colab": {}
      },
      "source": [
        "from sklearn.ensemble import GradientBoostingClassifier\n",
        "gbcl = GradientBoostingClassifier(n_estimators = 50, learning_rate = 0.09, max_depth=5)\n",
        "gbcl = gbcl.fit(train_set, train_labels)"
      ],
      "execution_count": 30,
      "outputs": []
    },
    {
      "cell_type": "code",
      "metadata": {
        "id": "g6j45BfzILCW",
        "colab_type": "code",
        "colab": {
          "base_uri": "https://localhost:8080/",
          "height": 34
        },
        "outputId": "923d9659-5acf-4001-ad44-6218c11338d6"
      },
      "source": [
        "test_pred = gbcl.predict(test_set)\n",
        "gbcl.score(test_set , test_labels)"
      ],
      "execution_count": 31,
      "outputs": [
        {
          "output_type": "execute_result",
          "data": {
            "text/plain": [
              "0.7733333333333333"
            ]
          },
          "metadata": {
            "tags": []
          },
          "execution_count": 31
        }
      ]
    },
    {
      "cell_type": "markdown",
      "metadata": {
        "id": "VhJfHdklILCb",
        "colab_type": "text"
      },
      "source": [
        "Ensemble RandomForest Classifier"
      ]
    },
    {
      "cell_type": "code",
      "metadata": {
        "id": "QV3m3zOfILCc",
        "colab_type": "code",
        "colab": {}
      },
      "source": [
        "from sklearn.ensemble import RandomForestClassifier\n",
        "rfcl = RandomForestClassifier(n_estimators = 6)\n",
        "rfcl = rfcl.fit(train_set, train_labels)"
      ],
      "execution_count": 32,
      "outputs": []
    },
    {
      "cell_type": "code",
      "metadata": {
        "id": "boYDHFSsILCh",
        "colab_type": "code",
        "colab": {
          "base_uri": "https://localhost:8080/",
          "height": 34
        },
        "outputId": "90385b09-bbd1-4744-f721-bc7a4cb724c5"
      },
      "source": [
        "test_pred = rfcl.predict(test_set)\n",
        "rfcl.score(test_set , test_labels)"
      ],
      "execution_count": 33,
      "outputs": [
        {
          "output_type": "execute_result",
          "data": {
            "text/plain": [
              "0.7466666666666667"
            ]
          },
          "metadata": {
            "tags": []
          },
          "execution_count": 33
        }
      ]
    },
    {
      "cell_type": "code",
      "metadata": {
        "id": "90FtYyDFKSb1",
        "colab_type": "code",
        "colab": {}
      },
      "source": [
        ""
      ],
      "execution_count": null,
      "outputs": []
    }
  ]
}