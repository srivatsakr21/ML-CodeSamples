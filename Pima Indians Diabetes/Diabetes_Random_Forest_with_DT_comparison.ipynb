{
  "nbformat": 4,
  "nbformat_minor": 0,
  "metadata": {
    "kernelspec": {
      "display_name": "Python 3",
      "language": "python",
      "name": "python3"
    },
    "language_info": {
      "codemirror_mode": {
        "name": "ipython",
        "version": 3
      },
      "file_extension": ".py",
      "mimetype": "text/x-python",
      "name": "python",
      "nbconvert_exporter": "python",
      "pygments_lexer": "ipython3",
      "version": "3.7.3"
    },
    "colab": {
      "name": "Diabetes_Random_Forest_with_DT_comparison.ipynb",
      "provenance": []
    }
  },
  "cells": [
    {
      "cell_type": "code",
      "metadata": {
        "id": "MdUIkGi0KiAP",
        "colab_type": "code",
        "colab": {}
      },
      "source": [
        "%matplotlib inline\n",
        "import numpy as np\n",
        "import pandas as pd\n",
        "from sklearn.tree import DecisionTreeClassifier\n",
        "from sklearn.ensemble import RandomForestClassifier\n",
        "from sklearn.preprocessing import StandardScaler\n",
        "from sklearn.ensemble import BaggingClassifier\n",
        "from sklearn.neighbors import KNeighborsClassifier\n",
        "from sklearn.ensemble import AdaBoostClassifier,GradientBoostingClassifier\n",
        "from sklearn import model_selection\n",
        "from sklearn import metrics\n",
        "#from sklearn.decomposition import PCA\n",
        "from scipy.stats import zscore\n",
        "import matplotlib.pyplot as plt "
      ],
      "execution_count": 1,
      "outputs": []
    },
    {
      "cell_type": "code",
      "metadata": {
        "id": "yGXiMLIBKiAa",
        "colab_type": "code",
        "colab": {}
      },
      "source": [
        "colnames = ['preg', 'glu', 'bp', 'sft', 'ins', 'bmi', 'dpf', 'age', 'outcome']\n",
        "prima_df = pd.read_csv(\"pima-indians-diabetes.data\",names=colnames)"
      ],
      "execution_count": 2,
      "outputs": []
    },
    {
      "cell_type": "code",
      "metadata": {
        "id": "9ujdU3uyKiAh",
        "colab_type": "code",
        "colab": {}
      },
      "source": [
        "X =  prima_df.drop(\"outcome\", axis=1)\n",
        "y =  prima_df.pop(\"outcome\")"
      ],
      "execution_count": 3,
      "outputs": []
    },
    {
      "cell_type": "code",
      "metadata": {
        "id": "da7JXH4cKiAr",
        "colab_type": "code",
        "colab": {}
      },
      "source": [
        "Dt_model=DecisionTreeClassifier(criterion='entropy',random_state=0)#fully grown tree (high bias error and var error)"
      ],
      "execution_count": 4,
      "outputs": []
    },
    {
      "cell_type": "code",
      "metadata": {
        "id": "w0lfP8fhKiAv",
        "colab_type": "code",
        "colab": {}
      },
      "source": [
        "Dt_model2=DecisionTreeClassifier(max_depth=4,criterion='entropy',random_state=0)"
      ],
      "execution_count": 5,
      "outputs": []
    },
    {
      "cell_type": "code",
      "metadata": {
        "id": "18l-Pi3kKiA3",
        "colab_type": "code",
        "colab": {}
      },
      "source": [
        "dt=DecisionTreeClassifier(criterion='entropy',random_state=0)\n",
        "knn=KNeighborsClassifier(n_neighbors=1)\n",
        "Bg_model = BaggingClassifier(base_estimator=knn,n_estimators=51,random_state=0)"
      ],
      "execution_count": 6,
      "outputs": []
    },
    {
      "cell_type": "code",
      "metadata": {
        "id": "Y7Ub4dMhKiA8",
        "colab_type": "code",
        "colab": {}
      },
      "source": [
        "#Bootstrapped sampled multiple decision tree(with the hope of controlling bias error)\n",
        "Rf_model = RandomForestClassifier(n_estimators=40,criterion='entropy',random_state=0)\n",
        "basedt=DecisionTreeClassifier(criterion='entropy',max_depth=1,random_state=0)\n",
        "Ad_model= AdaBoostClassifier(n_estimators=8,base_estimator=basedt,random_state=0)\n",
        "Gd_model=GradientBoostingClassifier(n_estimators=150,random_state=0)\n",
        "BoostedRF=AdaBoostClassifier(base_estimator=Rf_model,n_estimators=100,random_state=0)"
      ],
      "execution_count": 7,
      "outputs": []
    },
    {
      "cell_type": "code",
      "metadata": {
        "id": "vJfOyNowKiBD",
        "colab_type": "code",
        "colab": {}
      },
      "source": [
        "models = []\n",
        "models.append(('Unconstrained Decision Tree', Dt_model))\n",
        "models.append(('RandomForest', Rf_model))\n",
        "models.append(('AdaBoost', Ad_model))\n",
        "models.append(('GradientBoost', Gd_model))\n",
        "models.append(('BoostedRF', BoostedRF))\n",
        "#models.append(('BaggingClassifier', Bg_model))"
      ],
      "execution_count": 8,
      "outputs": []
    },
    {
      "cell_type": "code",
      "metadata": {
        "id": "LjjeYydLKiBJ",
        "colab_type": "code",
        "colab": {
          "base_uri": "https://localhost:8080/",
          "height": 569
        },
        "outputId": "09c51859-15b9-4dba-a69b-2d60dee3d40f"
      },
      "source": [
        "# evaluate each model in turn\n",
        "results = []\n",
        "names = []\n",
        "scoring = 'recall'\n",
        "for name, model in models:\n",
        "\tkfold = model_selection.KFold(n_splits=10,random_state=2)\n",
        "\tcv_results = model_selection.cross_val_score(model, X, y, cv=kfold, scoring=scoring)\n",
        "\tresults.append(cv_results)\n",
        "\tnames.append(name)\n",
        "\tmsg = \"%s: %f (%f)\" % (name, np.mean(cv_results), cv_results.var())\n",
        "\tprint(msg)\n",
        "# boxplot algorithm comparison\n",
        "fig = plt.figure()\n",
        "fig.suptitle('Algorithm Comparison')\n",
        "ax = fig.add_subplot(111)\n",
        "plt.boxplot(results)\n",
        "ax.set_xticklabels(names)\n",
        "plt.show()"
      ],
      "execution_count": 11,
      "outputs": [
        {
          "output_type": "stream",
          "text": [
            "/usr/local/lib/python3.6/dist-packages/sklearn/model_selection/_split.py:296: FutureWarning: Setting a random_state has no effect since shuffle is False. This will raise an error in 0.24. You should leave random_state to its default (None), or set shuffle=True.\n",
            "  FutureWarning\n",
            "/usr/local/lib/python3.6/dist-packages/sklearn/model_selection/_split.py:296: FutureWarning: Setting a random_state has no effect since shuffle is False. This will raise an error in 0.24. You should leave random_state to its default (None), or set shuffle=True.\n",
            "  FutureWarning\n"
          ],
          "name": "stderr"
        },
        {
          "output_type": "stream",
          "text": [
            "Unconstrained Decision Tree: 0.572474 (0.007052)\n",
            "RandomForest: 0.569513 (0.006636)\n"
          ],
          "name": "stdout"
        },
        {
          "output_type": "stream",
          "text": [
            "/usr/local/lib/python3.6/dist-packages/sklearn/model_selection/_split.py:296: FutureWarning: Setting a random_state has no effect since shuffle is False. This will raise an error in 0.24. You should leave random_state to its default (None), or set shuffle=True.\n",
            "  FutureWarning\n"
          ],
          "name": "stderr"
        },
        {
          "output_type": "stream",
          "text": [
            "AdaBoost: 0.532391 (0.008369)\n"
          ],
          "name": "stdout"
        },
        {
          "output_type": "stream",
          "text": [
            "/usr/local/lib/python3.6/dist-packages/sklearn/model_selection/_split.py:296: FutureWarning: Setting a random_state has no effect since shuffle is False. This will raise an error in 0.24. You should leave random_state to its default (None), or set shuffle=True.\n",
            "  FutureWarning\n"
          ],
          "name": "stderr"
        },
        {
          "output_type": "stream",
          "text": [
            "GradientBoost: 0.600742 (0.005608)\n"
          ],
          "name": "stdout"
        },
        {
          "output_type": "stream",
          "text": [
            "/usr/local/lib/python3.6/dist-packages/sklearn/model_selection/_split.py:296: FutureWarning: Setting a random_state has no effect since shuffle is False. This will raise an error in 0.24. You should leave random_state to its default (None), or set shuffle=True.\n",
            "  FutureWarning\n"
          ],
          "name": "stderr"
        },
        {
          "output_type": "stream",
          "text": [
            "BoostedRF: 0.583478 (0.007803)\n"
          ],
          "name": "stdout"
        },
        {
          "output_type": "display_data",
          "data": {
            "image/png": "[encoded data removed]",
            "text/plain": [
              "<Figure size 432x288 with 1 Axes>"
            ]
          },
          "metadata": {
            "tags": [],
            "needs_background": "light"
          }
        }
      ]
    },
    {
      "cell_type": "code",
      "metadata": {
        "id": "D38GBor1KiBP",
        "colab_type": "code",
        "colab": {
          "base_uri": "https://localhost:8080/",
          "height": 187
        },
        "outputId": "333a7034-97af-4435-ee1c-9ebd9cd5d80f"
      },
      "source": [
        "results"
      ],
      "execution_count": 12,
      "outputs": [
        {
          "output_type": "execute_result",
          "data": {
            "text/plain": [
              "[array([0.46875   , 0.68181818, 0.64705882, 0.43333333, 0.59259259,\n",
              "        0.56666667, 0.64285714, 0.6       , 0.45833333, 0.63333333]),\n",
              " array([0.625     , 0.63636364, 0.55882353, 0.53333333, 0.51851852,\n",
              "        0.5       , 0.57142857, 0.76      , 0.45833333, 0.53333333]),\n",
              " array([0.46875   , 0.5       , 0.47058824, 0.4       , 0.48148148,\n",
              "        0.66666667, 0.57142857, 0.64      , 0.45833333, 0.66666667]),\n",
              " array([0.625     , 0.63636364, 0.61764706, 0.53333333, 0.55555556,\n",
              "        0.63333333, 0.64285714, 0.68      , 0.41666667, 0.66666667]),\n",
              " array([0.5625    , 0.63636364, 0.52941176, 0.53333333, 0.55555556,\n",
              "        0.53333333, 0.71428571, 0.72      , 0.41666667, 0.63333333])]"
            ]
          },
          "metadata": {
            "tags": []
          },
          "execution_count": 12
        }
      ]
    },
    {
      "cell_type": "code",
      "metadata": {
        "id": "sIevt2K1KiBW",
        "colab_type": "code",
        "colab": {}
      },
      "source": [
        ""
      ],
      "execution_count": null,
      "outputs": []
    }
  ]
}